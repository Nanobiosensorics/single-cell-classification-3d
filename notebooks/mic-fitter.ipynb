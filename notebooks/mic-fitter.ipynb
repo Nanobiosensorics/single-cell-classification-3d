{
 "cells": [
  {
   "cell_type": "code",
   "execution_count": null,
   "metadata": {},
   "outputs": [],
   "source": [
    "import numpy as np\n",
    "import os\n",
    "from src.nanobio_core.epic_cardio.measurement_load import load_measurement, wl_map_to_wells\n",
    "from src.nanobio_core.epic_cardio.data_correction import correct_well\n",
    "from src.nanobio_core.image_fitting.cardio_mic import CardioMicFitter, CardioMicScaling\n",
    "from src.nanobio_core.image_fitting.single_cell_evaluator import CardioMicSingleCellEvaluator, SingleCellDisplayContour\n",
    "import matplotlib.pyplot as plt\n",
    "import matplotlib as mpl\n",
    "import matplotlib\n",
    "%matplotlib qt\n",
    "import cv2\n",
    "\n",
    "WIDTH = 80\n",
    "WELL_IDS = [['C1', 'C2', 'C3', 'C4'], ['B1', 'B2', 'B3', 'B4'], ['A1', 'A2', 'A3', 'A4']] # Tükrözés korrigálva\n",
    "def flatten(t):\n",
    "    return [item for sublist in t for item in sublist]\n",
    "WELL_NAMES = flatten(WELL_IDS)\n",
    "\n",
    "# Well mappa elérési útvonala\n",
    "CARDIO_PATH = '../../data/classification_datasets/fibronectin/20210527_HepG2_fn/epic_data/'\n",
    "MIC_PATH = '../../data/classification_datasets/lognorm-images/fibronectin/annotated/20210527_HepG2_fn/'\n",
    "PRED_PATH = '/home/balint/projects/lognorm-images/fibronectin/20210527_HepG2_fn/'\n",
    "\n",
    "RESULT_PATH = os.path.join(CARDIO_PATH, 'result')\n",
    "\n",
    "if not os.path.exists(RESULT_PATH):\n",
    "    os.mkdir(RESULT_PATH)"
   ]
  },
  {
   "cell_type": "code",
   "execution_count": null,
   "metadata": {},
   "outputs": [],
   "source": [
    "# Betölti a 3x4-es well képet a projekt mappából.\n",
    "WL_map, time = load_measurement(CARDIO_PATH)\n",
    "# Itt szétválasztásra kerülnek a wellek. Betöltéskor egy 240x320-as képen található a 3x4 elrendezésű 12 well.\n",
    "wells = wl_map_to_wells(WL_map, flip=True)\n",
    "phases = list(np.where((np.diff(time)) > 60)[0] + 1)\n",
    "[(n+1, p) for n, p in enumerate(phases)]"
   ]
  },
  {
   "cell_type": "code",
   "execution_count": null,
   "metadata": {},
   "outputs": [],
   "source": [
    "# Sejt szűrés a wellekből.\n",
    "well_data = {}\n",
    "cut_point = 1\n",
    "signal_start = 0 if cut_point == 0 or cut_point > len(phases) else phases[cut_point - 1]\n",
    "signal_start += 5\n",
    "time = time[signal_start:]\n",
    "time -= time[0]\n",
    "\n",
    "for name in WELL_NAMES:\n",
    "    print(\"Parsing\", name, end='\\r')\n",
    "    well_tmp = wells[name]\n",
    "    well_corr = well_tmp[signal_start:]\n",
    "    well_corr = correct_well(well_corr)\n",
    "    well_data[name] = well_corr\n",
    "print(\"Parsing finished!\")"
   ]
  },
  {
   "cell_type": "code",
   "execution_count": null,
   "metadata": {},
   "outputs": [],
   "source": [
    "# for well_id in WELL_NAMES:\n",
    "#     mic_path = f'{MIC_PATH}/{well_id}.jpeg'\n",
    "#     annot_path = f'{MIC_PATH}/{well_id}_seg.npy'\n",
    "#     params_path = f'{CARDIO_PATH}/result/metadata/{well_id}_map_params.json'\n",
    "    \n",
    "#     if not os.path.exists(params_path):\n",
    "#         continue\n",
    "\n",
    "#     img = cv2.imread(mic_path)\n",
    "#     well = well_data[well_id]\n",
    "\n",
    "#     im_src = well\n",
    "#     dat = np.load(annot_path, allow_pickle=True).item()\n",
    "#     mask = dat['masks'][0]\n",
    "\n",
    "#     filter_params = {\n",
    "#         'area': (0, np.Inf),\n",
    "#         'max_value': (100, np.Inf),\n",
    "#         'adjacent': False,\n",
    "#     }\n",
    "\n",
    "#     evaluator = CardioMicSingleCellEvaluator(time, well, img, mask, params_path, load_selection=None, filter_params=filter_params)\n",
    "\n",
    "#     evaluator.select_all()\n",
    "\n",
    "#     evaluator.save(RESULT_PATH, well_id, 4)"
   ]
  },
  {
   "cell_type": "code",
   "execution_count": 58,
   "metadata": {},
   "outputs": [
    {
     "name": "stdout",
     "output_type": "stream",
     "text": [
      "select\n",
      "save\n",
      "Duration 0:00:24.743822\n"
     ]
    }
   ],
   "source": [
    "well_id = 'A1'\n",
    "mic_path = f'{MIC_PATH}/{well_id}.jpeg'\n",
    "annot_path = f'{MIC_PATH}/{well_id}_seg.npy'\n",
    "pred_path = f'{PRED_PATH}/{well_id}_pred_seg.npy'\n",
    "params_path = f'{CARDIO_PATH}/result/metadata/{well_id}_map_params.json'\n",
    "\n",
    "img = cv2.imread(mic_path)\n",
    "well = well_data[well_id]\n",
    "\n",
    "im_src = well\n",
    "mask = np.load(annot_path, allow_pickle=True).item()['masks'][0]\n",
    "mask_pred = np.load(pred_path, allow_pickle=True).item()['masks-tuned']\n",
    "\n",
    "filter_params = {\n",
    "    'area': (0, np.Inf),\n",
    "    'max_value': (75, np.Inf),\n",
    "    'adjacent': False,\n",
    "}\n",
    "\n",
    "evaluator = CardioMicSingleCellEvaluator(time, well, img, mask, mask_pred, params_path, \n",
    "                                         load_selection=None, filter_params=filter_params, ws_threshold=50)\n",
    "print('select')\n",
    "evaluator.select_all()\n",
    "print('save')\n",
    "evaluator.save(RESULT_PATH, well_id, 4)"
   ]
  },
  {
   "cell_type": "code",
   "execution_count": null,
   "metadata": {
    "scrolled": true
   },
   "outputs": [],
   "source": [
    "RESOLUTION = 0.5\n",
    "evaluator.display(RESOLUTION, 3, display_contours=[SingleCellDisplayContour.ALL])"
   ]
  },
  {
   "cell_type": "code",
   "execution_count": null,
   "metadata": {},
   "outputs": [],
   "source": [
    "evaluator.save(RESULT_PATH, well_id, 4)"
   ]
  },
  {
   "cell_type": "code",
   "execution_count": 59,
   "metadata": {},
   "outputs": [],
   "source": [
    "seg = np.load(f'{RESULT_PATH}/{well_id}_seg.npz')\n",
    "im_cardio, im_watershed, im_cover, im_pred = seg['cardio'], seg['cardio_watershed'], seg['cardio_cover'], seg['cardio_pred']\n",
    "idx = 0"
   ]
  },
  {
   "cell_type": "code",
   "execution_count": 82,
   "metadata": {},
   "outputs": [],
   "source": [
    "fig, ax = plt.subplots(2, 2)\n",
    "ax[0, 0].imshow(im_cardio[idx, -1], vmin=0, vmax=np.max(im_cardio))\n",
    "ax[1, 0].imshow(im_pred[idx, -1], vmin=0, vmax=np.max(im_cardio))\n",
    "ax[0, 1].imshow(im_watershed[idx, -1], vmin=0, vmax=np.max(im_cardio))\n",
    "ax[1, 1].imshow(im_cover[idx, -1], vmin=0, vmax=np.max(im_cardio))\n",
    "plt.show()\n",
    "idx+=1"
   ]
  },
  {
   "cell_type": "code",
   "execution_count": 60,
   "metadata": {},
   "outputs": [
    {
     "data": {
      "text/plain": [
       "((58, 772, 8, 8), (58, 772, 8, 8), (55, 772, 8, 8), (54, 772, 8, 8))"
      ]
     },
     "execution_count": 60,
     "metadata": {},
     "output_type": "execute_result"
    }
   ],
   "source": [
    "im_cardio.shape, im_cover.shape, im_pred.shape, im_watershed.shape"
   ]
  },
  {
   "cell_type": "code",
   "execution_count": null,
   "metadata": {},
   "outputs": [],
   "source": []
  }
 ],
 "metadata": {
  "kernelspec": {
   "display_name": "Python 3 (ipykernel)",
   "language": "python",
   "name": "python3"
  },
  "language_info": {
   "codemirror_mode": {
    "name": "ipython",
    "version": 3
   },
   "file_extension": ".py",
   "mimetype": "text/x-python",
   "name": "python",
   "nbconvert_exporter": "python",
   "pygments_lexer": "ipython3",
   "version": "3.11.5"
  }
 },
 "nbformat": 4,
 "nbformat_minor": 2
}
